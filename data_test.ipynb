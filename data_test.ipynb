{
 "cells": [
  {
   "cell_type": "code",
   "execution_count": 23,
   "metadata": {},
   "outputs": [],
   "source": [
    "import matplotlib.pyplot as plt\n",
    "import scipy.stats as stat\n",
    "import numpy as mp\n",
    "from matplotlib.ticker import PercentFormatter\n",
    "import pandas as pd\n",
    "from colorama import Fore, Back, Style\n",
    "from functools import reduce\n",
    "%matplotlib inline\n",
    "\n",
    "def plot_pareto_by(df, x, y, hlines=[80]):\n",
    "\n",
    "    df['Cumulative Percentage'] = df[y].cumsum()/df[y].sum()*100\n",
    "    \n",
    "    fig, ax = plt.subplots(figsize=(20, 10))\n",
    "    ax.bar(df[x], df[y], color='C0')\n",
    "    ax2 = ax.twinx()\n",
    "    ax2.plot(df[x], df['Cumulative Percentage'], color='C1', ms=7)\n",
    "    ax2.yaxis.set_major_formatter(PercentFormatter())\n",
    "    ax.tick_params(axis='y', colors='C0')\n",
    "    ax2.tick_params(axis='y', colors='C1')\n",
    "\n",
    "    for tick in ax.get_xticklabels():\n",
    "        tick.set_rotation(90)\n",
    "\n",
    "    plt.title(f'Pareto Chart for {y} by {x}')\n",
    "    ax.set_xlabel(x)\n",
    "    ax.set_ylabel(y)\n",
    "    ax2.set_ylabel('Cumulative Percentage')\n",
    "\n",
    "    for hline_at in hlines:\n",
    "        ax2.axhline(y=hline_at, color='red', linestyle='-.')\n",
    "    plt.show()\n",
    "\n",
    "\n",
    "# Récupération de la liste de CSV si fournie\n",
    "# Ou utilisation de glob\n",
    "names_cols = ['Code Domaine', 'Domaine', 'Code Pays', 'Pays', 'Code Élément',\n",
    "              'Élément', 'Code Produit', 'Produit', 'Code année', 'Année', 'Unité',\n",
    "              'Valeur', 'Symbole', 'Description du Symbole']\n",
    "\n",
    "fns = !ls fao_2013/*.csv\n",
    "# Lecture puis affichage des info taille des CSV\n",
    "df_animal = pd.read_csv(fns[0], names = names_cols, header=0)\n",
    "df_pop = pd.read_csv(fns[1],names = names_cols, header=0)\n",
    "# df_alim = pd.read_csv(fns[2])\n",
    "df_veg = pd.read_csv(fns[3], names = names_cols, header=0)\n",
    "\n",
    "\n",
    "\n",
    "list_dfs = [df_animal, df_veg]\n",
    "df_aliments = reduce(lambda left, right: pd.merge(left, right, on=names_cols, how='outer'), list_dfs)\n",
    "# df_aliments.drop(['Code Domaine','Code année', 'Année', 'Symbole', 'Description du Symbole'], axis=1)\n",
    "# df_aliments.to_csv('aliments.csv')\n",
    "df_aliments = df_aliments[['Code Pays', 'Pays',\n",
    "              'Élément', 'Produit', 'Unité',\n",
    "              'Valeur']]\n",
    "df_aliments"
   ]
  }
 ],
 "metadata": {
  "kernelspec": {
   "display_name": "base",
   "language": "python",
   "name": "python3"
  },
  "language_info": {
   "codemirror_mode": {
    "name": "ipython",
    "version": 3
   },
   "file_extension": ".py",
   "mimetype": "text/x-python",
   "name": "python",
   "nbconvert_exporter": "python",
   "pygments_lexer": "ipython3",
   "version": "3.9.13"
  },
  "orig_nbformat": 4,
  "vscode": {
   "interpreter": {
    "hash": "70cfd609d7ba4145b3fedff821ecc63fd4c765afddbe882b67e97f0bba880cb4"
   }
  }
 },
 "nbformat": 4,
 "nbformat_minor": 2
}
