{
 "cells": [
  {
   "cell_type": "code",
   "execution_count": 26,
   "id": "a138b513",
   "metadata": {},
   "outputs": [],
   "source": [
    "import pandas as pd\n",
    "import matplotlib.pyplot as plt # import des bibliothèque "
   ]
  },
  {
   "cell_type": "code",
   "execution_count": 31,
   "id": "4df3a804",
   "metadata": {},
   "outputs": [],
   "source": [
    "#chemin du fichier population qui est dans le meme dossier \n",
    "df_pop = \"FAOSTAT_2013_population.csv\"\n",
    "#lecture du fichier csv\n",
    "df_pop = pd.read_csv(df_pop)\n",
    "df_pop\n"
   ]
  },
  {
   "cell_type": "code",
   "execution_count": 32,
   "id": "a4b05f17",
   "metadata": {},
   "outputs": [
    {
     "data": {
      "text/html": [
       "<div>\n",
       "<style scoped>\n",
       "    .dataframe tbody tr th:only-of-type {\n",
       "        vertical-align: middle;\n",
       "    }\n",
       "\n",
       "    .dataframe tbody tr th {\n",
       "        vertical-align: top;\n",
       "    }\n",
       "\n",
       "    .dataframe thead th {\n",
       "        text-align: right;\n",
       "    }\n",
       "</style>\n",
       "<table border=\"1\" class=\"dataframe\">\n",
       "  <thead>\n",
       "    <tr style=\"text-align: right;\">\n",
       "      <th></th>\n",
       "      <th>Value</th>\n",
       "    </tr>\n",
       "  </thead>\n",
       "  <tbody>\n",
       "    <tr>\n",
       "      <th>0</th>\n",
       "      <td>30552</td>\n",
       "    </tr>\n",
       "    <tr>\n",
       "      <th>1</th>\n",
       "      <td>3173</td>\n",
       "    </tr>\n",
       "    <tr>\n",
       "      <th>2</th>\n",
       "      <td>39208</td>\n",
       "    </tr>\n",
       "    <tr>\n",
       "      <th>3</th>\n",
       "      <td>21472</td>\n",
       "    </tr>\n",
       "    <tr>\n",
       "      <th>4</th>\n",
       "      <td>90</td>\n",
       "    </tr>\n",
       "    <tr>\n",
       "      <th>...</th>\n",
       "      <td>...</td>\n",
       "    </tr>\n",
       "    <tr>\n",
       "      <th>169</th>\n",
       "      <td>30405</td>\n",
       "    </tr>\n",
       "    <tr>\n",
       "      <th>170</th>\n",
       "      <td>91680</td>\n",
       "    </tr>\n",
       "    <tr>\n",
       "      <th>171</th>\n",
       "      <td>24407</td>\n",
       "    </tr>\n",
       "    <tr>\n",
       "      <th>172</th>\n",
       "      <td>14539</td>\n",
       "    </tr>\n",
       "    <tr>\n",
       "      <th>173</th>\n",
       "      <td>14150</td>\n",
       "    </tr>\n",
       "  </tbody>\n",
       "</table>\n",
       "<p>174 rows × 1 columns</p>\n",
       "</div>"
      ],
      "text/plain": [
       "     Value\n",
       "0    30552\n",
       "1     3173\n",
       "2    39208\n",
       "3    21472\n",
       "4       90\n",
       "..     ...\n",
       "169  30405\n",
       "170  91680\n",
       "171  24407\n",
       "172  14539\n",
       "173  14150\n",
       "\n",
       "[174 rows x 1 columns]"
      ]
     },
     "execution_count": 32,
     "metadata": {},
     "output_type": "execute_result"
    }
   ],
   "source": [
    "#isolation de la collone d'intérêt\n",
    "df_popVal = df_pop[['Value']]\n",
    "df_popVal"
   ]
  },
  {
   "cell_type": "code",
   "execution_count": 29,
   "id": "c3fa4e83",
   "metadata": {},
   "outputs": [
    {
     "data": {
      "text/plain": [
       "Value    8413993000\n",
       "dtype: int64"
      ]
     },
     "execution_count": 29,
     "metadata": {},
     "output_type": "execute_result"
    }
   ],
   "source": [
    "#calcul de la somme des populations des pays du fichier\n",
    "df_popSum = df_popVal.sum()*1000 # *1000 car unité est par miller d'individus\n",
    "df_popSum # somme des populations est de 8413993000 ... en 2013 ce qui semble élevé\n"
   ]
  },
  {
   "cell_type": "code",
   "execution_count": 33,
   "id": "004d2e21",
   "metadata": {},
   "outputs": [
    {
     "data": {
      "text/html": [
       "<div>\n",
       "<style scoped>\n",
       "    .dataframe tbody tr th:only-of-type {\n",
       "        vertical-align: middle;\n",
       "    }\n",
       "\n",
       "    .dataframe tbody tr th {\n",
       "        vertical-align: top;\n",
       "    }\n",
       "\n",
       "    .dataframe thead th {\n",
       "        text-align: right;\n",
       "    }\n",
       "</style>\n",
       "<table border=\"1\" class=\"dataframe\">\n",
       "  <thead>\n",
       "    <tr style=\"text-align: right;\">\n",
       "      <th></th>\n",
       "      <th>Value</th>\n",
       "    </tr>\n",
       "  </thead>\n",
       "  <tbody>\n",
       "    <tr>\n",
       "      <th>0</th>\n",
       "      <td>30552</td>\n",
       "    </tr>\n",
       "    <tr>\n",
       "      <th>1</th>\n",
       "      <td>3173</td>\n",
       "    </tr>\n",
       "    <tr>\n",
       "      <th>2</th>\n",
       "      <td>39208</td>\n",
       "    </tr>\n",
       "    <tr>\n",
       "      <th>3</th>\n",
       "      <td>21472</td>\n",
       "    </tr>\n",
       "    <tr>\n",
       "      <th>4</th>\n",
       "      <td>90</td>\n",
       "    </tr>\n",
       "    <tr>\n",
       "      <th>...</th>\n",
       "      <td>...</td>\n",
       "    </tr>\n",
       "    <tr>\n",
       "      <th>169</th>\n",
       "      <td>30405</td>\n",
       "    </tr>\n",
       "    <tr>\n",
       "      <th>170</th>\n",
       "      <td>91680</td>\n",
       "    </tr>\n",
       "    <tr>\n",
       "      <th>171</th>\n",
       "      <td>24407</td>\n",
       "    </tr>\n",
       "    <tr>\n",
       "      <th>172</th>\n",
       "      <td>14539</td>\n",
       "    </tr>\n",
       "    <tr>\n",
       "      <th>173</th>\n",
       "      <td>14150</td>\n",
       "    </tr>\n",
       "  </tbody>\n",
       "</table>\n",
       "<p>174 rows × 1 columns</p>\n",
       "</div>"
      ],
      "text/plain": [
       "     Value\n",
       "0    30552\n",
       "1     3173\n",
       "2    39208\n",
       "3    21472\n",
       "4       90\n",
       "..     ...\n",
       "169  30405\n",
       "170  91680\n",
       "171  24407\n",
       "172  14539\n",
       "173  14150\n",
       "\n",
       "[174 rows x 1 columns]"
      ]
     },
     "execution_count": 33,
     "metadata": {},
     "output_type": "execute_result"
    }
   ],
   "source": [
    "#drop Chine\n",
    "df_pop.shape\n",
    "\n",
    "df_pop_update = df_pop.drop(df_pop[(df_pop['Country Code']) & (df_pop['Country'] == 'China')].index, inplace=True)\n",
    "\n",
    "df_pop.shape\n",
    "\n",
    "#isolation de la collone d'intérêt\n",
    "df_popVal2 = df_pop[['Value']]\n",
    "df_popVal2\n",
    "\n"
   ]
  },
  {
   "cell_type": "code",
   "execution_count": 34,
   "id": "f62762ec",
   "metadata": {},
   "outputs": [
    {
     "data": {
      "text/plain": [
       "Value    6997326000\n",
       "dtype: int64"
      ]
     },
     "execution_count": 34,
     "metadata": {},
     "output_type": "execute_result"
    }
   ],
   "source": [
    "#calcul de la somme des populations des pays du fichier\n",
    "df_popSum = df_popVal2.sum()*1000 # *1000 car unité est par miller d'individus\n",
    "df_popSum "
   ]
  },
  {
   "cell_type": "code",
   "execution_count": null,
   "id": "56bddc4d",
   "metadata": {},
   "outputs": [],
   "source": []
  }
 ],
 "metadata": {
  "kernelspec": {
   "display_name": "Python 3 (ipykernel)",
   "language": "python",
   "name": "python3"
  },
  "language_info": {
   "codemirror_mode": {
    "name": "ipython",
    "version": 3
   },
   "file_extension": ".py",
   "mimetype": "text/x-python",
   "name": "python",
   "nbconvert_exporter": "python",
   "pygments_lexer": "ipython3",
   "version": "3.9.13"
  }
 },
 "nbformat": 4,
 "nbformat_minor": 5
}
