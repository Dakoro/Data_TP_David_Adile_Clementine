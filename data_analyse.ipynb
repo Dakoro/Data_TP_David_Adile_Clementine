{
 "cells": [
  {
   "cell_type": "code",
   "execution_count": null,
   "metadata": {},
   "outputs": [],
   "source": []
  }
 ],
 "metadata": {
  "kernelspec": {
   "display_name": "base",
   "language": "python",
   "name": "python3"
  },
  "language_info": {
   "name": "python",
   "version": "3.9.13 (main, Aug 25 2022, 23:26:10) \n[GCC 11.2.0]"
  },
  "orig_nbformat": 4,
  "vscode": {
   "interpreter": {
    "hash": "70cfd609d7ba4145b3fedff821ecc63fd4c765afddbe882b67e97f0bba880cb4"
   }
  }
 },
 "nbformat": 4,
 "nbformat_minor": 2
}
